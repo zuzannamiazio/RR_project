{
 "cells": [
  {
   "cell_type": "markdown",
   "metadata": {},
   "source": [
    "\n",
    "## Project Members\n",
    "- Filip Szymański\n",
    "- Kacper Sokołowski\n",
    "- Zuzanna Miazio\n",
    "\n",
    "## Project Objectives\n",
    "The primary objective of this project is to prepare a fully reproducible research project that demonstrates our cooperation skills using version control tools like Git and GitHub. The main goal was to utilize advanced analytics to improve campaign targeting by employing two separate machine learning models to compare the impact of marketing campaigns on customers' propensity to subscribe.\n",
    "\n",
    "## GitHub Repository Description\n",
    "\n",
    "### README.md File - contains all project description, all the dependencies necessary to run our project without errors and instructions how to install them.\n",
    "\n",
    "This project was developed using the following environment:\n",
    "\n",
    "- Python 3.11.1\n",
    "- NumPy 1.24.3\n",
    "- Pandas 1.5.2\n",
    "- Matplotlib 3.6.3\n",
    "- Seaborn 0.12.2\n",
    "- Scikit-learn 1.2.2\n",
    "- LightGBM 4.2.0\n",
    "- XGBoost 2.0.1\n",
    "- CatBoost 1.2.5\n",
    "- LazyPredict 0.2.12\n",
    "- MLxtend 0.23.1\n",
    "\n",
    "All dependencies are listed in the `requirements.txt` file. To recreate the environment, run the following commands:\n",
    "\n",
    "```sh\n",
    "# Create a virtual environment\n",
    "python -m venv myenv\n",
    "\n",
    "# Activate the virtual environment\n",
    "# On Windows\n",
    "myenv\\Scripts\\activate\n",
    "# On macOS/Linux\n",
    "source myenv/bin/activate\n",
    "\n",
    "# Install dependencies\n",
    "pip install -r requirements.txt\n"
   ]
  },
  {
   "cell_type": "markdown",
   "metadata": {},
   "source": [
    "### Branches:\n",
    "\n",
    "Working with branches is a crucial practice for collaboration. Each team member worked on separate branches, allowing parallel development without conflicts. This approach ensures that features and fixes are integrated smoothly, minimizing merge conflicts and maintaining a stable main branch.\n",
    "\n",
    "The branches used throughout our project development:"
   ]
  },
  {
   "cell_type": "markdown",
   "metadata": {},
   "source": [
    "![branches](img/branches.png)"
   ]
  }
 ],
 "metadata": {
  "kernelspec": {
   "display_name": "Python 3",
   "language": "python",
   "name": "python3"
  },
  "language_info": {
   "codemirror_mode": {
    "name": "ipython",
    "version": 3
   },
   "file_extension": ".py",
   "mimetype": "text/x-python",
   "name": "python",
   "nbconvert_exporter": "python",
   "pygments_lexer": "ipython3",
   "version": "3.10.8"
  }
 },
 "nbformat": 4,
 "nbformat_minor": 2
}
